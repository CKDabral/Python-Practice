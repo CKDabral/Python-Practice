{
 "cells": [
  {
   "cell_type": "markdown",
   "metadata": {},
   "source": [
    "In this We will read about following:\n",
    "\n",
    "    -arange\n",
    "    -linspace\n",
    "    -logspace\n",
    "    -gemospace"
   ]
  },
  {
   "cell_type": "markdown",
   "metadata": {},
   "source": [
    "## numpy.arange\n",
    "\n",
    "np.arange([start],stop,[step],dtype=None)\n",
    "\n",
    "Return evenly spaced values within a given interval.\n",
    "when usin a non integer step,such as 0.1, the result  will often not be consistent. it is better to use linspace for these cases.\n",
    "\n",
    "Parameters:\n",
    "\n",
    "start:number,optional:Start of interval.The interval includes this value. The default start value is 0.\n",
    "\n",
    "stop:number: end point of array.The interval does not include this value,except in some cases where step is not an integerand floating point round off affects the length of out.\n",
    "\n",
    "step:number,optional: defines the difference between two consecutive elements of the array.Default size is 1.If step is specified as a position, start must also be given."
   ]
  },
  {
   "cell_type": "code",
   "execution_count": 2,
   "metadata": {},
   "outputs": [],
   "source": [
    "import numpy as np"
   ]
  },
  {
   "cell_type": "code",
   "execution_count": 3,
   "metadata": {},
   "outputs": [
    {
     "data": {
      "text/plain": [
       "array([0, 1, 2, 3, 4, 5, 6])"
      ]
     },
     "execution_count": 3,
     "metadata": {},
     "output_type": "execute_result"
    }
   ],
   "source": [
    "np.arange(7)"
   ]
  },
  {
   "cell_type": "code",
   "execution_count": 4,
   "metadata": {},
   "outputs": [
    {
     "data": {
      "text/plain": [
       "array([0., 1., 2., 3., 4., 5., 6., 7., 8.])"
      ]
     },
     "execution_count": 4,
     "metadata": {},
     "output_type": "execute_result"
    }
   ],
   "source": [
    "np.arange(9.0)"
   ]
  },
  {
   "cell_type": "code",
   "execution_count": 5,
   "metadata": {},
   "outputs": [
    {
     "data": {
      "text/plain": [
       "array([0., 1., 2., 3., 4., 5., 6.])"
      ]
     },
     "execution_count": 5,
     "metadata": {},
     "output_type": "execute_result"
    }
   ],
   "source": [
    "np.arange(0,7,1.0)"
   ]
  },
  {
   "cell_type": "markdown",
   "metadata": {},
   "source": [
    "## numpy.linspace\n",
    "np.linspace(start,stop,num=50,endpoint=True,retstep=False,dtype=None)\n",
    "\n",
    "Returns evenly spaced numbes over a specified interval.\n",
    "\n",
    "The endpoint of the interval can optionally be excluded.\n",
    "\n",
    "Parameters:\n",
    "\n",
    "start:scalar: The starting value of the sequence.\n",
    "\n",
    "stop:scalar: The end value of the sequence,unless endpoint is set to False.In that case, the sequence consists of all but the last of num+1 evenly spaced samples,so that stop is excluded. Note that the step size changes ehen the endpoint is False.\n",
    "\n",
    "num:int,optional:Number of samples to generate.Default is 50.Must be non negatve.\n",
    "\n",
    "endpoint: bool, optional: If true,stop is the last sample.Otherwise, it is not included. Default is True.\n",
    "\n",
    "retsep:bool,optional:If True,return(samples,step),where step is the spacing betweeen samples.\n",
    "\n",
    "dtype:dtype,optional: The type of output array.If dtype is not given infer the data type from the other input argument."
   ]
  },
  {
   "cell_type": "code",
   "execution_count": 6,
   "metadata": {},
   "outputs": [
    {
     "data": {
      "text/plain": [
       "array([ 2.        ,  2.31460674,  2.62921348,  2.94382022,  3.25842697,\n",
       "        3.57303371,  3.88764045,  4.20224719,  4.51685393,  4.83146067,\n",
       "        5.14606742,  5.46067416,  5.7752809 ,  6.08988764,  6.40449438,\n",
       "        6.71910112,  7.03370787,  7.34831461,  7.66292135,  7.97752809,\n",
       "        8.29213483,  8.60674157,  8.92134831,  9.23595506,  9.5505618 ,\n",
       "        9.86516854, 10.17977528, 10.49438202, 10.80898876, 11.12359551,\n",
       "       11.43820225, 11.75280899, 12.06741573, 12.38202247, 12.69662921,\n",
       "       13.01123596, 13.3258427 , 13.64044944, 13.95505618, 14.26966292,\n",
       "       14.58426966, 14.8988764 , 15.21348315, 15.52808989, 15.84269663,\n",
       "       16.15730337, 16.47191011, 16.78651685, 17.1011236 , 17.41573034,\n",
       "       17.73033708, 18.04494382, 18.35955056, 18.6741573 , 18.98876404,\n",
       "       19.30337079, 19.61797753, 19.93258427, 20.24719101, 20.56179775,\n",
       "       20.87640449, 21.19101124, 21.50561798, 21.82022472, 22.13483146,\n",
       "       22.4494382 , 22.76404494, 23.07865169, 23.39325843, 23.70786517,\n",
       "       24.02247191, 24.33707865, 24.65168539, 24.96629213, 25.28089888,\n",
       "       25.59550562, 25.91011236, 26.2247191 , 26.53932584, 26.85393258,\n",
       "       27.16853933, 27.48314607, 27.79775281, 28.11235955, 28.42696629,\n",
       "       28.74157303, 29.05617978, 29.37078652, 29.68539326, 30.        ])"
      ]
     },
     "execution_count": 6,
     "metadata": {},
     "output_type": "execute_result"
    }
   ],
   "source": [
    "np.linspace(2,30,90)"
   ]
  },
  {
   "cell_type": "code",
   "execution_count": 8,
   "metadata": {},
   "outputs": [
    {
     "data": {
      "text/plain": [
       "array([ 2.        ,  5.11111111,  8.22222222, 11.33333333, 14.44444444,\n",
       "       17.55555556, 20.66666667, 23.77777778, 26.88888889])"
      ]
     },
     "execution_count": 8,
     "metadata": {},
     "output_type": "execute_result"
    }
   ],
   "source": [
    "np.linspace(2,30,9,endpoint=False)"
   ]
  },
  {
   "cell_type": "code",
   "execution_count": 9,
   "metadata": {},
   "outputs": [
    {
     "data": {
      "text/plain": [
       "array([10., 20., 30., 40., 50.])"
      ]
     },
     "execution_count": 9,
     "metadata": {},
     "output_type": "execute_result"
    }
   ],
   "source": [
    "np.linspace(10,50,5,retstep=False)"
   ]
  },
  {
   "cell_type": "code",
   "execution_count": 10,
   "metadata": {},
   "outputs": [
    {
     "data": {
      "text/plain": [
       "(array([10., 20., 30., 40., 50.]), 10.0)"
      ]
     },
     "execution_count": 10,
     "metadata": {},
     "output_type": "execute_result"
    }
   ],
   "source": [
    "np.linspace(10,50,5,retstep=True)"
   ]
  },
  {
   "cell_type": "markdown",
   "metadata": {},
   "source": [
    "## np.logspace\n",
    "\n",
    "np.logspace(start,stop,num=50,endpoint=True, base=10.0,dttype=None)\n",
    "\n",
    "Return numbers spaced evely on a log scale"
   ]
  },
  {
   "cell_type": "code",
   "execution_count": 11,
   "metadata": {},
   "outputs": [
    {
     "data": {
      "text/plain": [
       "array([1.00000000e+02, 2.06351078e+02, 4.25807673e+02, 8.78658723e+02,\n",
       "       1.81312174e+03, 3.74139626e+03, 7.72041151e+03, 1.59311524e+04,\n",
       "       3.28741046e+04, 6.78360691e+04, 1.39980460e+05, 2.88851187e+05,\n",
       "       5.96047539e+05, 1.22995052e+06, 2.53801615e+06, 5.23722369e+06,\n",
       "       1.08070675e+07, 2.23005003e+07, 4.60173228e+07, 9.49572415e+07,\n",
       "       1.95945291e+08, 4.04335220e+08, 8.34350085e+08, 1.72169039e+09,\n",
       "       3.55272668e+09, 7.33108980e+09, 1.51277828e+10, 3.12163429e+10,\n",
       "       6.44152600e+10, 1.32921583e+11, 2.74285120e+11, 5.65990301e+11,\n",
       "       1.16792709e+12, 2.41003013e+12, 4.97312315e+12, 1.02620932e+13,\n",
       "       2.11759399e+13, 4.36967803e+13, 9.01687771e+13, 1.86064243e+14,\n",
       "       3.83945572e+14, 7.92275825e+14, 1.63486970e+15, 3.37357126e+15,\n",
       "       6.96140065e+15, 1.43649253e+16, 2.96421781e+16, 6.11669540e+16,\n",
       "       1.26218669e+17, 2.60453583e+17, 5.37448777e+17, 1.10903134e+18,\n",
       "       2.28849813e+18, 4.72234056e+18, 9.74460063e+18, 2.01080884e+19,\n",
       "       4.14932572e+19, 8.56217834e+19, 1.76681473e+20, 3.64584124e+20,\n",
       "       7.52323269e+20, 1.55242717e+21, 3.20345020e+21, 6.61035402e+21,\n",
       "       1.36405368e+22, 2.81473946e+22, 5.80824522e+22, 1.19853766e+23,\n",
       "       2.47319538e+23, 5.10346533e+23, 1.05310557e+24, 2.17309470e+24,\n",
       "       4.48420433e+24, 9.25320396e+24, 1.90940861e+25, 3.94008524e+25,\n",
       "       8.13040837e+25, 1.67771853e+26, 3.46199027e+26, 7.14385423e+26,\n",
       "       1.47414202e+27, 3.04190795e+27, 6.27700983e+27, 1.29526774e+28,\n",
       "       2.67279895e+28, 5.51534944e+28, 1.13809830e+29, 2.34847811e+29,\n",
       "       4.84610990e+29, 1.00000000e+30])"
      ]
     },
     "execution_count": 11,
     "metadata": {},
     "output_type": "execute_result"
    }
   ],
   "source": [
    "np.logspace(2,30,90,base=10)"
   ]
  },
  {
   "cell_type": "markdown",
   "metadata": {},
   "source": [
    "## np.geomspace\n",
    "\n",
    "np.geomspace(start,stop,num=50,endpoint=True,dtpe=None)\n",
    "\n",
    "Return number spacedevenly on a log scale(geometric Pogression)\n",
    "\n",
    "This is similar to logspace,but with endpoint specified directly.Each output sample is a constant multiple of the previous.\n"
   ]
  },
  {
   "cell_type": "code",
   "execution_count": 12,
   "metadata": {},
   "outputs": [
    {
     "data": {
      "text/plain": [
       "array([ 2.        ,  2.06179036,  2.12548974,  2.19115712,  2.25885332,\n",
       "        2.32864099,  2.40058477,  2.47475127,  2.55120915,  2.63002921,\n",
       "        2.71128444,  2.79505005,  2.88140362,  2.9704251 ,  3.06219692,\n",
       "        3.15680404,  3.25433406,  3.3548773 ,  3.45852683,  3.56537863,\n",
       "        3.67553165,  3.78908785,  3.9061524 ,  4.02683368,  4.15124342,\n",
       "        4.27949683,  4.41171265,  4.5480133 ,  4.68852498,  4.8333778 ,\n",
       "        4.98270587,  5.13664746,  5.2953451 ,  5.45894573,  5.62760084,\n",
       "        5.80146657,  5.98070392,  6.16547883,  6.35596241,  6.552331  ,\n",
       "        6.75476644,  6.96345615,  7.17859338,  7.4003773 ,  7.62901328,\n",
       "        7.86471301,  8.10769472,  8.3581834 ,  8.61641097,  8.88261653,\n",
       "        9.15704655,  9.43995514,  9.73160424, 10.0322639 , 10.34221248,\n",
       "       10.66173699, 10.99113326, 11.33070628, 11.68077048, 12.04164997,\n",
       "       12.4136789 , 12.79720173, 13.19257356, 13.60016048, 14.02033987,\n",
       "       14.45350077, 14.90004426, 15.36038379, 15.8349456 , 16.32416907,\n",
       "       16.82850719, 17.34842693, 17.88440968, 18.43695171, 19.00656463,\n",
       "       19.59377584, 20.19912905, 20.82318475, 21.46652077, 22.12973276,\n",
       "       22.81343481, 23.51825996, 24.2448608 , 24.99391011, 25.76610143,\n",
       "       26.56214974, 27.3827921 , 28.22878836, 29.10092182, 30.        ])"
      ]
     },
     "execution_count": 12,
     "metadata": {},
     "output_type": "execute_result"
    }
   ],
   "source": [
    "np.geomspace(2,30,90)"
   ]
  },
  {
   "cell_type": "code",
   "execution_count": 13,
   "metadata": {},
   "outputs": [
    {
     "data": {
      "text/plain": [
       "array([   1.,   10.,  100., 1000.])"
      ]
     },
     "execution_count": 13,
     "metadata": {},
     "output_type": "execute_result"
    }
   ],
   "source": [
    "np.geomspace(1,1000,4)"
   ]
  },
  {
   "cell_type": "code",
   "execution_count": null,
   "metadata": {},
   "outputs": [],
   "source": []
  }
 ],
 "metadata": {
  "kernelspec": {
   "display_name": "Python 3",
   "language": "python",
   "name": "python3"
  },
  "language_info": {
   "codemirror_mode": {
    "name": "ipython",
    "version": 3
   },
   "file_extension": ".py",
   "mimetype": "text/x-python",
   "name": "python",
   "nbconvert_exporter": "python",
   "pygments_lexer": "ipython3",
   "version": "3.6.5"
  }
 },
 "nbformat": 4,
 "nbformat_minor": 2
}
